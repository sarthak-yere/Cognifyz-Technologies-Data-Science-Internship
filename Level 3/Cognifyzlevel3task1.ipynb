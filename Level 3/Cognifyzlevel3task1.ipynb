{
 "cells": [
  {
   "cell_type": "markdown",
   "id": "03967ef1-365c-439b-8ac8-6abb037cf83a",
   "metadata": {},
   "source": [
    "Task: Predictive Modeling\n",
    "Build a regression model to predict the aggregate rating of a restaurant based on available features.\n",
    "Split the dataset into training and testing setsand evaluate the model's performance using appropriate metrics.\n",
    "Experiment with different algorithms (e.g.,linear regression, decision trees, randomforest) and compare their performance."
   ]
  },
  {
   "cell_type": "markdown",
   "id": "0db6fc6c-44aa-482c-ba46-72062eeba077",
   "metadata": {},
   "source": [
    "1.Data Preprocessing"
   ]
  },
  {
   "cell_type": "code",
   "execution_count": 39,
   "id": "182a62d6-1888-407a-8a6c-7ba615e8211c",
   "metadata": {},
   "outputs": [],
   "source": [
    "import pandas as pd\n",
    "from sklearn.preprocessing import LabelEncoder\n",
    "from sklearn.preprocessing import StandardScaler\n",
    "df=pd.read_csv('Dataset .csv')\n",
    "#filling missing values in Cuisine column\n",
    "most_common_cuisine=df['Cuisines'].mode()[0]\n",
    "df['Cuisines'].fillna(most_common_cuisine)\n",
    "\n",
    "#Encoding categorical columns\n",
    "#Label Encoding currency\n",
    "label_encoder=LabelEncoder()\n",
    "df['Currency']=label_encoder.fit_transform(df['Currency'])\n",
    "#One-hot encoding for Cuisine\n",
    "df_encoded = pd.get_dummies(df, columns=['Cuisines'], drop_first=True)\n",
    "\n",
    "#Standardizing the Numerical Features\n",
    "scaler = StandardScaler()\n",
    "numerical_columns = ['Average Cost for two', 'Longitude', 'Latitude']\n",
    "df_encoded[numerical_columns] = scaler.fit_transform(df_encoded[numerical_columns])\n",
    "\n",
    "#droppinng Unnecessary Columns\n",
    "df_encoded.drop(columns=['Restaurant ID', 'Restaurant Name'], inplace=True)"
   ]
  },
  {
   "cell_type": "markdown",
   "id": "82b1ef19-94c4-4c67-8c5c-f7f928303131",
   "metadata": {},
   "source": [
    "2. Splitting the Dataset(80%-Training,20%-testing)"
   ]
  },
  {
   "cell_type": "code",
   "execution_count": 49,
   "id": "614c1e90-cd34-4361-9106-0aea4f2c55d6",
   "metadata": {},
   "outputs": [],
   "source": [
    "from sklearn.model_selection import train_test_split\n",
    "X=df_encoded.drop(columns=['Aggregate rating'])\n",
    "y=df_encoded['Aggregate rating']\n",
    "X_train,X_test,y_train,y_test=train_test_split(X,y,test_size=0.2,random_state=42)"
   ]
  },
  {
   "cell_type": "markdown",
   "id": "78b9157c-bebf-4f1b-bfe8-e48d7cbc56f0",
   "metadata": {},
   "source": [
    "3. Model Building"
   ]
  },
  {
   "cell_type": "markdown",
   "id": "c537a04a-c4ce-43cf-8ffd-a9339379ee2d",
   "metadata": {},
   "source": [
    "i)Convert Non Numeric Columns to Numeric"
   ]
  },
  {
   "cell_type": "code",
   "execution_count": 63,
   "id": "59efb30f-a023-4dc8-8de5-f29485fe926a",
   "metadata": {},
   "outputs": [
    {
     "name": "stdout",
     "output_type": "stream",
     "text": [
      "Country Code                                 int32\n",
      "City                                        object\n",
      "Address                                     object\n",
      "Locality                                    object\n",
      "Locality Verbose                            object\n",
      "                                             ...  \n",
      "Cuisines_Western, Asian, Cafe                int32\n",
      "Cuisines_Western, Fusion, Fast Food          int32\n",
      "Cuisines_World Cuisine                       int32\n",
      "Cuisines_World Cuisine, Mexican, Italian     int32\n",
      "Cuisines_World Cuisine, Patisserie, Cafe     int32\n",
      "Length: 1841, dtype: object\n",
      "Country Code                                 int32\n",
      "City                                        object\n",
      "Address                                     object\n",
      "Locality                                    object\n",
      "Locality Verbose                            object\n",
      "                                             ...  \n",
      "Cuisines_Western, Asian, Cafe                int32\n",
      "Cuisines_Western, Fusion, Fast Food          int32\n",
      "Cuisines_World Cuisine                       int32\n",
      "Cuisines_World Cuisine, Mexican, Italian     int32\n",
      "Cuisines_World Cuisine, Patisserie, Cafe     int32\n",
      "Length: 1841, dtype: object\n"
     ]
    }
   ],
   "source": [
    "X_train = X_train.astype({col: 'int32' for col in X_train.select_dtypes(include='bool').columns})\n",
    "X_test = X_test.astype({col: 'int32' for col in X_test.select_dtypes(include='bool').columns})\n",
    "print(X_train.dtypes)\n",
    "print(X_test.dtypes)"
   ]
  },
  {
   "cell_type": "markdown",
   "id": "33dab3b3-6c6e-47b5-844b-b7211f3f9cb3",
   "metadata": {},
   "source": [
    "ii)Select Only Numerical Columns"
   ]
  },
  {
   "cell_type": "code",
   "execution_count": 65,
   "id": "a1642a74-e60a-4e5a-951a-b084046036ac",
   "metadata": {},
   "outputs": [
    {
     "name": "stdout",
     "output_type": "stream",
     "text": [
      "(7640, 1831)\n",
      "(1911, 1831)\n"
     ]
    }
   ],
   "source": [
    "X_train = X_train.select_dtypes(include=['int32', 'float64'])\n",
    "X_test = X_test.select_dtypes(include=['int32', 'float64'])\n",
    "\n",
    "# Check the shape of the training and testing datasets\n",
    "print(X_train.shape)\n",
    "print(X_test.shape)"
   ]
  },
  {
   "cell_type": "markdown",
   "id": "1fc3a31c-8bb2-4206-8373-2d63f434600c",
   "metadata": {},
   "source": [
    "a.Linear Regression"
   ]
  },
  {
   "cell_type": "code",
   "execution_count": 73,
   "id": "6f55d1eb-4234-4eac-8243-1d9355d0ab8a",
   "metadata": {},
   "outputs": [
    {
     "name": "stdout",
     "output_type": "stream",
     "text": [
      "Linear Regression Performance:\n",
      "MAE:1.096367703447295\n",
      "MSE:1.7005770832314193\n",
      "RMSE:1.3040617635800151\n",
      "R2:0.2528577979035217\n"
     ]
    }
   ],
   "source": [
    "from sklearn.linear_model import LinearRegression\n",
    "from sklearn.metrics import mean_absolute_error,mean_squared_error,r2_score,root_mean_squared_error\n",
    "\n",
    "#initializing linear Regression\n",
    "\n",
    "lin_reg=LinearRegression()\n",
    "lin_reg.fit(X_train,y_train)\n",
    "\n",
    "#predict on test set\n",
    "y_pred=lin_reg.predict(X_test)\n",
    "\n",
    "#Evaluating the model\n",
    "mae=mean_absolute_error(y_test,y_pred)\n",
    "mse=mean_squared_error(y_test,y_pred)\n",
    "rmse=root_mean_squared_error(y_test,y_pred)\n",
    "r2=r2_score(y_test,y_pred,)\n",
    "\n",
    "print(\"Linear Regression Performance:\")\n",
    "print(f\"MAE:{mae}\")\n",
    "print(f\"MSE:{mse}\")\n",
    "print(f\"RMSE:{rmse}\")\n",
    "print(f\"R2:{r2}\")\n"
   ]
  },
  {
   "cell_type": "markdown",
   "id": "7b3b4312-e756-4858-b064-97b4b07d1f82",
   "metadata": {},
   "source": [
    "b.Decision Tree Regression"
   ]
  },
  {
   "cell_type": "code",
   "execution_count": 85,
   "id": "259956e7-3fc5-482a-bda2-8e7bac479a52",
   "metadata": {},
   "outputs": [
    {
     "name": "stdout",
     "output_type": "stream",
     "text": [
      "Decision Tree Regression Performance:\n",
      "MAE:0.25802544176563014\n",
      "MSE:0.16346177291308037\n",
      "RMSE:0.40430405997600416\n",
      "R2:0.928183679424396\n"
     ]
    }
   ],
   "source": [
    "from sklearn.tree import DecisionTreeRegressor\n",
    "\n",
    "decision_tree=DecisionTreeRegressor(random_state=42)\n",
    "decision_tree.fit(X_train,y_train)\n",
    "\n",
    "y_pred=decision_tree.predict(X_test)\n",
    "\n",
    "#evalate the model\n",
    "mae=mean_absolute_error(y_test,y_pred)\n",
    "mse=mean_squared_error(y_test,y_pred)\n",
    "rmse=root_mean_squared_error(y_test,y_pred)\n",
    "r2=r2_score(y_test,y_pred)\n",
    "print(\"Decision Tree Regression Performance:\")\n",
    "print(f\"MAE:{mae}\")\n",
    "print(f\"MSE:{mse}\")\n",
    "print(f\"RMSE:{rmse}\")\n",
    "print(f\"R2:{r2}\")"
   ]
  },
  {
   "cell_type": "markdown",
   "id": "9753bbc1-b7c7-4dd4-b4c7-acf4ecf60931",
   "metadata": {},
   "source": [
    "c.Random Forest Regression"
   ]
  },
  {
   "cell_type": "code",
   "execution_count": 87,
   "id": "4e230f20-c4ff-4778-8069-1020530c8c31",
   "metadata": {},
   "outputs": [
    {
     "name": "stdout",
     "output_type": "stream",
     "text": [
      "Random Forest Regression Performance:\n",
      "MAE:0.2213488705517616\n",
      "MSE:0.11845429427762023\n",
      "RMSE:0.34417189640878615\n",
      "R2:0.9479575473837419\n"
     ]
    }
   ],
   "source": [
    "from sklearn.ensemble import RandomForestRegressor\n",
    "\n",
    "ran_reg=RandomForestRegressor(random_state=42)\n",
    "ran_reg.fit(X_train,y_train)\n",
    "\n",
    "y_pred=ran_reg.predict(X_test)\n",
    "\n",
    "mae=mean_absolute_error(y_test,y_pred)\n",
    "mse=mean_squared_error(y_test,y_pred)\n",
    "rmse=root_mean_squared_error(y_test,y_pred)\n",
    "r2=r2_score(y_test,y_pred)\n",
    "print(\"Random Forest Regression Performance:\")\n",
    "print(f\"MAE:{mae}\")\n",
    "print(f\"MSE:{mse}\")\n",
    "print(f\"RMSE:{rmse}\")\n",
    "print(f\"R2:{r2}\")"
   ]
  },
  {
   "cell_type": "code",
   "execution_count": null,
   "id": "2da85414-f251-4907-956d-e8f446dfdccb",
   "metadata": {},
   "outputs": [],
   "source": []
  }
 ],
 "metadata": {
  "kernelspec": {
   "display_name": "Python [conda env:base] *",
   "language": "python",
   "name": "conda-base-py"
  },
  "language_info": {
   "codemirror_mode": {
    "name": "ipython",
    "version": 3
   },
   "file_extension": ".py",
   "mimetype": "text/x-python",
   "name": "python",
   "nbconvert_exporter": "python",
   "pygments_lexer": "ipython3",
   "version": "3.12.7"
  }
 },
 "nbformat": 4,
 "nbformat_minor": 5
}
