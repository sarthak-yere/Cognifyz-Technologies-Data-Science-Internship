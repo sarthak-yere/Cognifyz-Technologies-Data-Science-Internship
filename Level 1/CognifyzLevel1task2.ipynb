{
 "cells": [
  {
   "cell_type": "markdown",
   "id": "3cb2d586-2cd4-453a-9d99-293b4d190301",
   "metadata": {},
   "source": [
    "Level-1_Task-2\n",
    "Descriptive Analysis\n",
    "Calculate basic statistical measures (mean,median, standard deviation, etc.) for numerical columns.\n",
    "Explore the distribution of categorical variables like \"Country Code\", \"City\", and \"Cuisines\".\n",
    "Identify the top cuisines and cities with the highest number of restaurants"
   ]
  },
  {
   "cell_type": "markdown",
   "id": "280102ac-73c4-4744-ad8f-c932171a4f82",
   "metadata": {},
   "source": [
    "1.Statistical Measures for the Numerical columns"
   ]
  },
  {
   "cell_type": "code",
   "execution_count": 39,
   "id": "9253a1ed-cfc4-416e-b148-f94266bfa103",
   "metadata": {},
   "outputs": [
    {
     "name": "stdout",
     "output_type": "stream",
     "text": [
      "       Restaurant ID  Country Code    Longitude     Latitude  \\\n",
      "count   9.551000e+03   9551.000000  9551.000000  9551.000000   \n",
      "mean    9.051128e+06     18.365616    64.126574    25.854381   \n",
      "std     8.791521e+06     56.750546    41.467058    11.007935   \n",
      "min     5.300000e+01      1.000000  -157.948486   -41.330428   \n",
      "25%     3.019625e+05      1.000000    77.081343    28.478713   \n",
      "50%     6.004089e+06      1.000000    77.191964    28.570469   \n",
      "75%     1.835229e+07      1.000000    77.282006    28.642758   \n",
      "max     1.850065e+07    216.000000   174.832089    55.976980   \n",
      "\n",
      "       Average Cost for two  Price range  Aggregate rating         Votes  \n",
      "count           9551.000000  9551.000000       9551.000000   9551.000000  \n",
      "mean            1199.210763     1.804837          2.666370    156.909748  \n",
      "std            16121.183073     0.905609          1.516378    430.169145  \n",
      "min                0.000000     1.000000          0.000000      0.000000  \n",
      "25%              250.000000     1.000000          2.500000      5.000000  \n",
      "50%              400.000000     2.000000          3.200000     31.000000  \n",
      "75%              700.000000     2.000000          3.700000    131.000000  \n",
      "max           800000.000000     4.000000          4.900000  10934.000000  \n"
     ]
    }
   ],
   "source": [
    "import pandas as pd\n",
    "df=pd.read_csv('Dataset .csv')\n",
    "\n",
    "numerical_columns=df.select_dtypes(include=['int64','float64'])#for retriving the numerical columns\n",
    "basic_stats=numerical_columns.describe()\n",
    "print(basic_stats)\n"
   ]
  },
  {
   "cell_type": "markdown",
   "id": "c7e55828-dd5d-4047-b619-b0a126622d0d",
   "metadata": {},
   "source": [
    "2. Exploring the Distribution of Categorical Variables"
   ]
  },
  {
   "cell_type": "markdown",
   "id": "ba8b34cc-ef37-4cbe-bae1-ddcd350a8850",
   "metadata": {},
   "source": [
    "i)For Country_code"
   ]
  },
  {
   "cell_type": "code",
   "execution_count": 41,
   "id": "9b8811c7-9349-48bc-84f6-830c76e7c020",
   "metadata": {},
   "outputs": [
    {
     "name": "stdout",
     "output_type": "stream",
     "text": [
      "Country Code\n",
      "1      8652\n",
      "216     434\n",
      "215      80\n",
      "30       60\n",
      "214      60\n",
      "189      60\n",
      "148      40\n",
      "208      34\n",
      "14       24\n",
      "162      22\n",
      "94       21\n",
      "184      20\n",
      "166      20\n",
      "191      20\n",
      "37        4\n",
      "Name: count, dtype: int64\n"
     ]
    }
   ],
   "source": [
    "country_code_dist=df['Country Code'].value_counts()\n",
    "print(country_code_dist)"
   ]
  },
  {
   "cell_type": "code",
   "execution_count": null,
   "id": "b6f0bf46-2161-4b95-b3ba-471a23ae0471",
   "metadata": {},
   "outputs": [],
   "source": [
    "ii)For City"
   ]
  },
  {
   "cell_type": "code",
   "execution_count": 43,
   "id": "baf8c954-9aae-4ff0-862b-1a1b6629aa1b",
   "metadata": {},
   "outputs": [
    {
     "name": "stdout",
     "output_type": "stream",
     "text": [
      "City\n",
      "New Delhi           5473\n",
      "Gurgaon             1118\n",
      "Noida               1080\n",
      "Faridabad            251\n",
      "Ghaziabad             25\n",
      "                    ... \n",
      "Panchkula              1\n",
      "Mc Millan              1\n",
      "Mayfield               1\n",
      "Macedon                1\n",
      "Vineland Station       1\n",
      "Name: count, Length: 141, dtype: int64\n"
     ]
    }
   ],
   "source": [
    "city_dist=df['City'].value_counts()\n",
    "print(city_dist)"
   ]
  },
  {
   "cell_type": "code",
   "execution_count": null,
   "id": "86e9cbff-5aa1-48b5-9bb3-8cfccac53112",
   "metadata": {},
   "outputs": [],
   "source": [
    "iii)For Cuisines"
   ]
  },
  {
   "cell_type": "code",
   "execution_count": 47,
   "id": "88897bdf-8bde-440b-bc4f-d48ad1e57184",
   "metadata": {},
   "outputs": [
    {
     "name": "stdout",
     "output_type": "stream",
     "text": [
      "Cuisines\n",
      "North Indian      3960\n",
      "Chinese           2735\n",
      "Fast Food         1986\n",
      "Mughlai            995\n",
      "Italian            764\n",
      "                  ... \n",
      "Fish and Chips       1\n",
      "Malwani              1\n",
      "Cuisine Varies       1\n",
      "Soul Food            1\n",
      "B�_rek               1\n",
      "Name: count, Length: 145, dtype: int64\n"
     ]
    }
   ],
   "source": [
    "cuisine_dist=df['Cuisines'].str.split(',').explode().str.strip().value_counts()\n",
    "print(cuisine_dist)"
   ]
  },
  {
   "cell_type": "markdown",
   "id": "41601b55-71b6-45ae-8f52-cb4293385bce",
   "metadata": {},
   "source": [
    "3. Identifying Top Cuisines"
   ]
  },
  {
   "cell_type": "code",
   "execution_count": 49,
   "id": "79602a7a-daf4-4fa5-b65a-3a7fe8f6d9f2",
   "metadata": {},
   "outputs": [
    {
     "name": "stdout",
     "output_type": "stream",
     "text": [
      "Top Cuisines: Cuisines\n",
      "North Indian    3960\n",
      "Chinese         2735\n",
      "Fast Food       1986\n",
      "Mughlai          995\n",
      "Italian          764\n",
      "Bakery           745\n",
      "Continental      736\n",
      "Cafe             703\n",
      "Desserts         653\n",
      "South Indian     636\n",
      "Name: count, dtype: int64\n"
     ]
    }
   ],
   "source": [
    "top_cuisines=cuisine_dist.head(10)\n",
    "print(\"Top Cuisines:\",top_cuisines)"
   ]
  },
  {
   "cell_type": "markdown",
   "id": "96bc0560-4d2e-4139-9158-5fe2ec640e65",
   "metadata": {},
   "source": [
    "4. Cities with highest no. of restaurants"
   ]
  },
  {
   "cell_type": "code",
   "execution_count": 53,
   "id": "a4ba5ba7-aafa-4757-b4a1-2616d1be98c6",
   "metadata": {},
   "outputs": [
    {
     "name": "stdout",
     "output_type": "stream",
     "text": [
      "Cities with highest number of restaurants: City\n",
      "New Delhi       5473\n",
      "Gurgaon         1118\n",
      "Noida           1080\n",
      "Faridabad        251\n",
      "Ghaziabad         25\n",
      "Bhubaneshwar      21\n",
      "Amritsar          21\n",
      "Ahmedabad         21\n",
      "Lucknow           21\n",
      "Guwahati          21\n",
      "Name: count, dtype: int64\n"
     ]
    }
   ],
   "source": [
    "highest_rest=city_dist.head(10)\n",
    "print(\"Cities with highest number of restaurants:\",highest_rest)"
   ]
  },
  {
   "cell_type": "code",
   "execution_count": null,
   "id": "846dbffa-f8cc-4a89-bb71-507c931195f7",
   "metadata": {},
   "outputs": [],
   "source": []
  }
 ],
 "metadata": {
  "kernelspec": {
   "display_name": "Python [conda env:base] *",
   "language": "python",
   "name": "conda-base-py"
  },
  "language_info": {
   "codemirror_mode": {
    "name": "ipython",
    "version": 3
   },
   "file_extension": ".py",
   "mimetype": "text/x-python",
   "name": "python",
   "nbconvert_exporter": "python",
   "pygments_lexer": "ipython3",
   "version": "3.12.7"
  }
 },
 "nbformat": 4,
 "nbformat_minor": 5
}
